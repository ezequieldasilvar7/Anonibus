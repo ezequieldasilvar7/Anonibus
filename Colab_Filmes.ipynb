{
  "nbformat": 4,
  "nbformat_minor": 0,
  "metadata": {
    "colab": {
      "name": "Colab Filmes.ipynb",
      "provenance": [],
      "collapsed_sections": [],
      "authorship_tag": "ABX9TyP8h0BK8Cnz20r7h4r9Ocvq",
      "include_colab_link": true
    },
    "kernelspec": {
      "name": "python3",
      "display_name": "Python 3"
    },
    "language_info": {
      "name": "python"
    }
  },
  "cells": [
    {
      "cell_type": "markdown",
      "metadata": {
        "id": "view-in-github",
        "colab_type": "text"
      },
      "source": [
        "<a href=\"https://colab.research.google.com/github/ezequieldasilvar7/Anonibus/blob/master/Colab_Filmes.ipynb\" target=\"_parent\"><img src=\"https://colab.research.google.com/assets/colab-badge.svg\" alt=\"Open In Colab\"/></a>"
      ]
    },
    {
      "cell_type": "code",
      "metadata": {
        "colab": {
          "base_uri": "https://localhost:8080/"
        },
        "id": "YVJNgDxY9gyy",
        "outputId": "d0a04da1-57f6-4b7a-8cb1-e67a565f4f84"
      },
      "source": [
        "!pip install plotly --upgrade"
      ],
      "execution_count": 1,
      "outputs": [
        {
          "output_type": "stream",
          "name": "stdout",
          "text": [
            "Requirement already satisfied: plotly in /usr/local/lib/python3.7/dist-packages (4.4.1)\n",
            "Collecting plotly\n",
            "  Downloading plotly-5.3.1-py2.py3-none-any.whl (23.9 MB)\n",
            "\u001b[K     |████████████████████████████████| 23.9 MB 1.5 MB/s \n",
            "\u001b[?25hCollecting tenacity>=6.2.0\n",
            "  Downloading tenacity-8.0.1-py3-none-any.whl (24 kB)\n",
            "Requirement already satisfied: six in /usr/local/lib/python3.7/dist-packages (from plotly) (1.15.0)\n",
            "Installing collected packages: tenacity, plotly\n",
            "  Attempting uninstall: plotly\n",
            "    Found existing installation: plotly 4.4.1\n",
            "    Uninstalling plotly-4.4.1:\n",
            "      Successfully uninstalled plotly-4.4.1\n",
            "Successfully installed plotly-5.3.1 tenacity-8.0.1\n"
          ]
        }
      ]
    },
    {
      "cell_type": "code",
      "metadata": {
        "id": "qtpiLQ8Yn4TE"
      },
      "source": [
        "!pip freeze > requirements.txt"
      ],
      "execution_count": 34,
      "outputs": []
    },
    {
      "cell_type": "code",
      "metadata": {
        "id": "hm7QYJ1kAZst"
      },
      "source": [
        "import pandas as pd\n",
        "import numpy as np\n",
        "import seaborn as sns\n",
        "import sklearn\n",
        "import plotly.express as px"
      ],
      "execution_count": 38,
      "outputs": []
    },
    {
      "cell_type": "code",
      "metadata": {
        "id": "cLLNxs8XEgzi"
      },
      "source": [
        "catalogo = pd.read_csv('/content/sample_data/MoviesOnStreamingPlatforms_updated.csv')"
      ],
      "execution_count": 3,
      "outputs": []
    },
    {
      "cell_type": "code",
      "metadata": {
        "colab": {
          "base_uri": "https://localhost:8080/",
          "height": 326
        },
        "id": "02Nh2sr2FRRz",
        "outputId": "a1bcb1e8-ad22-4b19-ad7f-50ed6b75347b"
      },
      "source": [
        "catalogo.head()\n"
      ],
      "execution_count": 32,
      "outputs": [
        {
          "output_type": "execute_result",
          "data": {
            "text/html": [
              "<div>\n",
              "<style scoped>\n",
              "    .dataframe tbody tr th:only-of-type {\n",
              "        vertical-align: middle;\n",
              "    }\n",
              "\n",
              "    .dataframe tbody tr th {\n",
              "        vertical-align: top;\n",
              "    }\n",
              "\n",
              "    .dataframe thead th {\n",
              "        text-align: right;\n",
              "    }\n",
              "</style>\n",
              "<table border=\"1\" class=\"dataframe\">\n",
              "  <thead>\n",
              "    <tr style=\"text-align: right;\">\n",
              "      <th></th>\n",
              "      <th>ID</th>\n",
              "      <th>Title</th>\n",
              "      <th>Year</th>\n",
              "      <th>Age</th>\n",
              "      <th>Netflix</th>\n",
              "      <th>Hulu</th>\n",
              "      <th>Prime Video</th>\n",
              "      <th>Disney+</th>\n",
              "      <th>Type</th>\n",
              "      <th>Genres</th>\n",
              "      <th>Language</th>\n",
              "      <th>Runtime</th>\n",
              "    </tr>\n",
              "  </thead>\n",
              "  <tbody>\n",
              "    <tr>\n",
              "      <th>0</th>\n",
              "      <td>1</td>\n",
              "      <td>The Irishman</td>\n",
              "      <td>2019</td>\n",
              "      <td>18+</td>\n",
              "      <td>1</td>\n",
              "      <td>0</td>\n",
              "      <td>0</td>\n",
              "      <td>0</td>\n",
              "      <td>0</td>\n",
              "      <td>Biography,Crime,Drama</td>\n",
              "      <td>English,Italian,Latin,Spanish,German</td>\n",
              "      <td>209.0</td>\n",
              "    </tr>\n",
              "    <tr>\n",
              "      <th>1</th>\n",
              "      <td>2</td>\n",
              "      <td>Dangal</td>\n",
              "      <td>2016</td>\n",
              "      <td>7+</td>\n",
              "      <td>1</td>\n",
              "      <td>0</td>\n",
              "      <td>0</td>\n",
              "      <td>0</td>\n",
              "      <td>0</td>\n",
              "      <td>Action,Biography,Drama,Sport</td>\n",
              "      <td>Hindi,English</td>\n",
              "      <td>161.0</td>\n",
              "    </tr>\n",
              "    <tr>\n",
              "      <th>2</th>\n",
              "      <td>3</td>\n",
              "      <td>David Attenborough: A Life on Our Planet</td>\n",
              "      <td>2020</td>\n",
              "      <td>7+</td>\n",
              "      <td>1</td>\n",
              "      <td>0</td>\n",
              "      <td>0</td>\n",
              "      <td>0</td>\n",
              "      <td>0</td>\n",
              "      <td>Documentary,Biography</td>\n",
              "      <td>English</td>\n",
              "      <td>83.0</td>\n",
              "    </tr>\n",
              "    <tr>\n",
              "      <th>3</th>\n",
              "      <td>4</td>\n",
              "      <td>Lagaan: Once Upon a Time in India</td>\n",
              "      <td>2001</td>\n",
              "      <td>7+</td>\n",
              "      <td>1</td>\n",
              "      <td>0</td>\n",
              "      <td>0</td>\n",
              "      <td>0</td>\n",
              "      <td>0</td>\n",
              "      <td>Drama,Musical,Sport</td>\n",
              "      <td>Hindi,English</td>\n",
              "      <td>224.0</td>\n",
              "    </tr>\n",
              "    <tr>\n",
              "      <th>4</th>\n",
              "      <td>5</td>\n",
              "      <td>Roma</td>\n",
              "      <td>2018</td>\n",
              "      <td>18+</td>\n",
              "      <td>1</td>\n",
              "      <td>0</td>\n",
              "      <td>0</td>\n",
              "      <td>0</td>\n",
              "      <td>0</td>\n",
              "      <td>Action,Drama,History,Romance,War</td>\n",
              "      <td>English</td>\n",
              "      <td>52.0</td>\n",
              "    </tr>\n",
              "  </tbody>\n",
              "</table>\n",
              "</div>"
            ],
            "text/plain": [
              "   ID  ... Runtime\n",
              "0   1  ...   209.0\n",
              "1   2  ...   161.0\n",
              "2   3  ...    83.0\n",
              "3   4  ...   224.0\n",
              "4   5  ...    52.0\n",
              "\n",
              "[5 rows x 12 columns]"
            ]
          },
          "metadata": {},
          "execution_count": 32
        }
      ]
    },
    {
      "cell_type": "code",
      "metadata": {
        "id": "2grs-FVwVpQf"
      },
      "source": [
        "catalogo = catalogo.drop(['IMDb'], axis=1)"
      ],
      "execution_count": 31,
      "outputs": []
    },
    {
      "cell_type": "code",
      "metadata": {
        "colab": {
          "base_uri": "https://localhost:8080/"
        },
        "id": "zmiZuz27IPNy",
        "outputId": "0457d4e6-b220-47a8-acb9-6217c9220a0f"
      },
      "source": [
        "catalogo.info()\n"
      ],
      "execution_count": 30,
      "outputs": [
        {
          "output_type": "stream",
          "name": "stdout",
          "text": [
            "<class 'pandas.core.frame.DataFrame'>\n",
            "RangeIndex: 9515 entries, 0 to 9514\n",
            "Data columns (total 13 columns):\n",
            " #   Column       Non-Null Count  Dtype  \n",
            "---  ------       --------------  -----  \n",
            " 0   ID           9515 non-null   int64  \n",
            " 1   Title        9515 non-null   object \n",
            " 2   Year         9515 non-null   int64  \n",
            " 3   Age          5338 non-null   object \n",
            " 4   IMDb         9309 non-null   object \n",
            " 5   Netflix      9515 non-null   int64  \n",
            " 6   Hulu         9515 non-null   int64  \n",
            " 7   Prime Video  9515 non-null   int64  \n",
            " 8   Disney+      9515 non-null   int64  \n",
            " 9   Type         9515 non-null   int64  \n",
            " 10  Genres       9399 non-null   object \n",
            " 11  Language     9202 non-null   object \n",
            " 12  Runtime      9196 non-null   float64\n",
            "dtypes: float64(1), int64(7), object(5)\n",
            "memory usage: 966.5+ KB\n"
          ]
        }
      ]
    },
    {
      "cell_type": "code",
      "metadata": {
        "colab": {
          "base_uri": "https://localhost:8080/"
        },
        "id": "uORJRvifXsQw",
        "outputId": "f3658879-8bb7-44c0-9366-e556b4606687"
      },
      "source": [
        "platform = ['Prime Video','Netflix', 'Hulu', 'Disney+']\n",
        "for i in platform:    \n",
        "    print('Platform {} Count: {}'. format(i, catalogo[i].sum()))"
      ],
      "execution_count": 21,
      "outputs": [
        {
          "output_type": "stream",
          "name": "stdout",
          "text": [
            "Platform Prime Video Count: 4113\n",
            "Platform Netflix Count: 3695\n",
            "Platform Hulu Count: 1047\n",
            "Platform Disney+ Count: 922\n"
          ]
        }
      ]
    },
    {
      "cell_type": "code",
      "metadata": {
        "colab": {
          "base_uri": "https://localhost:8080/"
        },
        "id": "JX_iBBN7Yirw",
        "outputId": "4f0f1a53-1249-4afe-bc7f-973b18e80fd8"
      },
      "source": [
        "platform_count = [catalogo[i].sum() for i in platform]\n",
        "platform_count"
      ],
      "execution_count": 25,
      "outputs": [
        {
          "output_type": "execute_result",
          "data": {
            "text/plain": [
              "[4113, 3695, 1047, 922]"
            ]
          },
          "metadata": {},
          "execution_count": 25
        }
      ]
    },
    {
      "cell_type": "code",
      "metadata": {
        "colab": {
          "base_uri": "https://localhost:8080/",
          "height": 248
        },
        "id": "0Kh4xoQSYWdg",
        "outputId": "baed4ee2-3154-412b-a326-0fcb5c5cdc67"
      },
      "source": [
        "explode = (0.1, 0.1, 0.1, 0.1)\n",
        "\n",
        "#plotting\n",
        "fig1, ax1 = plt.subplots()\n",
        "ax1.pie(platform_count,\n",
        "       labels = platform,\n",
        "       autopct = '%1.1f%%',\n",
        "       explode = explode,\n",
        "       shadow = True,\n",
        "       startangle = 100,\n",
        "       )\n",
        "\n",
        "ax1.axis = ('equal')\n",
        "plt.show()"
      ],
      "execution_count": 24,
      "outputs": [
        {
          "output_type": "display_data",
          "data": {
            "image/png": "[encoded data removed]",
            "text/plain": [
              "<Figure size 432x288 with 1 Axes>"
            ]
          },
          "metadata": {}
        }
      ]
    },
    {
      "cell_type": "code",
      "metadata": {
        "id": "uKN06X0MIc_t"
      },
      "source": [
        "g = catalogo['Genres'].str.split(',').apply(pd.Series, 1).stack()\n",
        "g.index = g.index.droplevel(-1)\n",
        "\n",
        "g.name = 'Genres'\n",
        "\n",
        "del catalogo['Genres']\n",
        "# join new column with the existing dataframe\n",
        "catalogo_genres = catalogo.join(g)"
      ],
      "execution_count": 35,
      "outputs": []
    },
    {
      "cell_type": "code",
      "metadata": {
        "colab": {
          "base_uri": "https://localhost:8080/",
          "height": 391
        },
        "id": "4DHLIOmcq7kB",
        "outputId": "c9d4f1f0-0ff6-4316-be9e-7f1049962092"
      },
      "source": [
        "plt.figure(figsize=(15,5))\n",
        "sns.countplot(x='Genres', data=catalogo_genres)\n",
        "plt.xticks(rotation=90)\n",
        "plt.show()"
      ],
      "execution_count": 39,
      "outputs": [
        {
          "output_type": "display_data",
          "data": {
            "image/png": "[encoded data removed]",
            "text/plain": [
              "<Figure size 1080x360 with 1 Axes>"
            ]
          },
          "metadata": {
            "needs_background": "light"
          }
        }
      ]
    }
  ]
}